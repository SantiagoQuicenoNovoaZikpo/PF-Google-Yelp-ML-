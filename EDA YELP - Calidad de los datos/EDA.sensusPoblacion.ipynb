{
 "cells": [
  {
   "cell_type": "code",
   "execution_count": 6,
   "metadata": {},
   "outputs": [],
   "source": [
    "import pandas as pd"
   ]
  },
  {
   "cell_type": "code",
   "execution_count": 7,
   "metadata": {},
   "outputs": [
    {
     "data": {
      "text/html": [
       "<div>\n",
       "<style scoped>\n",
       "    .dataframe tbody tr th:only-of-type {\n",
       "        vertical-align: middle;\n",
       "    }\n",
       "\n",
       "    .dataframe tbody tr th {\n",
       "        vertical-align: top;\n",
       "    }\n",
       "\n",
       "    .dataframe thead th {\n",
       "        text-align: right;\n",
       "    }\n",
       "</style>\n",
       "<table border=\"1\" class=\"dataframe\">\n",
       "  <thead>\n",
       "    <tr style=\"text-align: right;\">\n",
       "      <th></th>\n",
       "      <th>SUMLEV</th>\n",
       "      <th>REGION</th>\n",
       "      <th>DIVISION</th>\n",
       "      <th>STATE</th>\n",
       "      <th>NAME</th>\n",
       "      <th>ESTIMATESBASE2020</th>\n",
       "      <th>POPESTIMATE2020</th>\n",
       "      <th>POPESTIMATE2021</th>\n",
       "      <th>POPESTIMATE2022</th>\n",
       "      <th>POPESTIMATE2023</th>\n",
       "      <th>...</th>\n",
       "      <th>RINTERNATIONALMIG2023</th>\n",
       "      <th>RINTERNATIONALMIG2024</th>\n",
       "      <th>RDOMESTICMIG2021</th>\n",
       "      <th>RDOMESTICMIG2022</th>\n",
       "      <th>RDOMESTICMIG2023</th>\n",
       "      <th>RDOMESTICMIG2024</th>\n",
       "      <th>RNETMIG2021</th>\n",
       "      <th>RNETMIG2022</th>\n",
       "      <th>RNETMIG2023</th>\n",
       "      <th>RNETMIG2024</th>\n",
       "    </tr>\n",
       "  </thead>\n",
       "  <tbody>\n",
       "    <tr>\n",
       "      <th>0</th>\n",
       "      <td>10</td>\n",
       "      <td>0</td>\n",
       "      <td>0</td>\n",
       "      <td>0</td>\n",
       "      <td>United States</td>\n",
       "      <td>331515736</td>\n",
       "      <td>331577720</td>\n",
       "      <td>332099760</td>\n",
       "      <td>334017321</td>\n",
       "      <td>336806231</td>\n",
       "      <td>...</td>\n",
       "      <td>6.840246</td>\n",
       "      <td>8.231786</td>\n",
       "      <td>0.000000</td>\n",
       "      <td>0.000000</td>\n",
       "      <td>0.000000</td>\n",
       "      <td>0.000000</td>\n",
       "      <td>1.133093</td>\n",
       "      <td>5.084797</td>\n",
       "      <td>6.840246</td>\n",
       "      <td>8.231786</td>\n",
       "    </tr>\n",
       "    <tr>\n",
       "      <th>1</th>\n",
       "      <td>20</td>\n",
       "      <td>1</td>\n",
       "      <td>0</td>\n",
       "      <td>0</td>\n",
       "      <td>Northeast Region</td>\n",
       "      <td>57617706</td>\n",
       "      <td>57431458</td>\n",
       "      <td>57252533</td>\n",
       "      <td>57159597</td>\n",
       "      <td>57398303</td>\n",
       "      <td>...</td>\n",
       "      <td>8.175150</td>\n",
       "      <td>9.848371</td>\n",
       "      <td>-4.674375</td>\n",
       "      <td>-7.824957</td>\n",
       "      <td>-4.857718</td>\n",
       "      <td>-3.334322</td>\n",
       "      <td>-3.271477</td>\n",
       "      <td>-2.006798</td>\n",
       "      <td>3.317432</td>\n",
       "      <td>6.514050</td>\n",
       "    </tr>\n",
       "    <tr>\n",
       "      <th>2</th>\n",
       "      <td>30</td>\n",
       "      <td>1</td>\n",
       "      <td>1</td>\n",
       "      <td>0</td>\n",
       "      <td>New England</td>\n",
       "      <td>15122011</td>\n",
       "      <td>15057350</td>\n",
       "      <td>15118145</td>\n",
       "      <td>15175633</td>\n",
       "      <td>15263573</td>\n",
       "      <td>...</td>\n",
       "      <td>8.005202</td>\n",
       "      <td>9.622685</td>\n",
       "      <td>2.416795</td>\n",
       "      <td>-2.957175</td>\n",
       "      <td>-2.067991</td>\n",
       "      <td>-1.575091</td>\n",
       "      <td>4.188365</td>\n",
       "      <td>4.325839</td>\n",
       "      <td>5.937211</td>\n",
       "      <td>8.047594</td>\n",
       "    </tr>\n",
       "    <tr>\n",
       "      <th>3</th>\n",
       "      <td>30</td>\n",
       "      <td>1</td>\n",
       "      <td>2</td>\n",
       "      <td>0</td>\n",
       "      <td>Middle Atlantic</td>\n",
       "      <td>42495695</td>\n",
       "      <td>42374108</td>\n",
       "      <td>42134388</td>\n",
       "      <td>41983964</td>\n",
       "      <td>42134730</td>\n",
       "      <td>...</td>\n",
       "      <td>8.236647</td>\n",
       "      <td>9.930153</td>\n",
       "      <td>-7.206423</td>\n",
       "      <td>-9.578005</td>\n",
       "      <td>-5.867209</td>\n",
       "      <td>-3.971810</td>\n",
       "      <td>-5.935167</td>\n",
       "      <td>-4.287388</td>\n",
       "      <td>2.369438</td>\n",
       "      <td>5.958342</td>\n",
       "    </tr>\n",
       "    <tr>\n",
       "      <th>4</th>\n",
       "      <td>20</td>\n",
       "      <td>2</td>\n",
       "      <td>0</td>\n",
       "      <td>0</td>\n",
       "      <td>Midwest Region</td>\n",
       "      <td>68998970</td>\n",
       "      <td>68984258</td>\n",
       "      <td>68872831</td>\n",
       "      <td>68903297</td>\n",
       "      <td>69186401</td>\n",
       "      <td>...</td>\n",
       "      <td>4.859117</td>\n",
       "      <td>5.861482</td>\n",
       "      <td>-2.502867</td>\n",
       "      <td>-2.649762</td>\n",
       "      <td>-1.300416</td>\n",
       "      <td>-0.709222</td>\n",
       "      <td>-1.700819</td>\n",
       "      <td>0.891824</td>\n",
       "      <td>3.558701</td>\n",
       "      <td>5.152260</td>\n",
       "    </tr>\n",
       "  </tbody>\n",
       "</table>\n",
       "<p>5 rows × 75 columns</p>\n",
       "</div>"
      ],
      "text/plain": [
       "   SUMLEV REGION DIVISION  STATE              NAME  ESTIMATESBASE2020  \\\n",
       "0      10      0        0      0     United States          331515736   \n",
       "1      20      1        0      0  Northeast Region           57617706   \n",
       "2      30      1        1      0       New England           15122011   \n",
       "3      30      1        2      0   Middle Atlantic           42495695   \n",
       "4      20      2        0      0    Midwest Region           68998970   \n",
       "\n",
       "   POPESTIMATE2020  POPESTIMATE2021  POPESTIMATE2022  POPESTIMATE2023  ...  \\\n",
       "0        331577720        332099760        334017321        336806231  ...   \n",
       "1         57431458         57252533         57159597         57398303  ...   \n",
       "2         15057350         15118145         15175633         15263573  ...   \n",
       "3         42374108         42134388         41983964         42134730  ...   \n",
       "4         68984258         68872831         68903297         69186401  ...   \n",
       "\n",
       "   RINTERNATIONALMIG2023  RINTERNATIONALMIG2024  RDOMESTICMIG2021  \\\n",
       "0               6.840246               8.231786          0.000000   \n",
       "1               8.175150               9.848371         -4.674375   \n",
       "2               8.005202               9.622685          2.416795   \n",
       "3               8.236647               9.930153         -7.206423   \n",
       "4               4.859117               5.861482         -2.502867   \n",
       "\n",
       "   RDOMESTICMIG2022  RDOMESTICMIG2023  RDOMESTICMIG2024  RNETMIG2021  \\\n",
       "0          0.000000          0.000000          0.000000     1.133093   \n",
       "1         -7.824957         -4.857718         -3.334322    -3.271477   \n",
       "2         -2.957175         -2.067991         -1.575091     4.188365   \n",
       "3         -9.578005         -5.867209         -3.971810    -5.935167   \n",
       "4         -2.649762         -1.300416         -0.709222    -1.700819   \n",
       "\n",
       "   RNETMIG2022  RNETMIG2023  RNETMIG2024  \n",
       "0     5.084797     6.840246     8.231786  \n",
       "1    -2.006798     3.317432     6.514050  \n",
       "2     4.325839     5.937211     8.047594  \n",
       "3    -4.287388     2.369438     5.958342  \n",
       "4     0.891824     3.558701     5.152260  \n",
       "\n",
       "[5 rows x 75 columns]"
      ]
     },
     "execution_count": 7,
     "metadata": {},
     "output_type": "execute_result"
    }
   ],
   "source": [
    "poblacion = pd.read_csv(\"D:\\\\HENRY REPO\\\\Proyecto Final\\\\Imagenes\\\\NST-EST2024-ALLDATA.csv\")\n",
    "poblacion.head()"
   ]
  },
  {
   "cell_type": "code",
   "execution_count": 8,
   "metadata": {},
   "outputs": [
    {
     "data": {
      "text/plain": [
       "(66, 75)"
      ]
     },
     "execution_count": 8,
     "metadata": {},
     "output_type": "execute_result"
    }
   ],
   "source": [
    "poblacion.shape"
   ]
  },
  {
   "cell_type": "code",
   "execution_count": 19,
   "metadata": {},
   "outputs": [
    {
     "data": {
      "text/plain": [
       "Index(['SUMLEV', 'REGION', 'DIVISION', 'STATE', 'NAME', 'ESTIMATESBASE2020',\n",
       "       'POPESTIMATE2020', 'POPESTIMATE2021', 'POPESTIMATE2022',\n",
       "       'POPESTIMATE2023', 'POPESTIMATE2024', 'NPOPCHG_2020', 'NPOPCHG_2021',\n",
       "       'NPOPCHG_2022', 'NPOPCHG_2023', 'NPOPCHG_2024', 'BIRTHS2020',\n",
       "       'BIRTHS2021', 'BIRTHS2022', 'BIRTHS2023', 'BIRTHS2024', 'DEATHS2020',\n",
       "       'DEATHS2021', 'DEATHS2022', 'DEATHS2023', 'DEATHS2024',\n",
       "       'NATURALCHG2020', 'NATURALCHG2021', 'NATURALCHG2022', 'NATURALCHG2023',\n",
       "       'NATURALCHG2024', 'INTERNATIONALMIG2020', 'INTERNATIONALMIG2021',\n",
       "       'INTERNATIONALMIG2022', 'INTERNATIONALMIG2023', 'INTERNATIONALMIG2024',\n",
       "       'DOMESTICMIG2020', 'DOMESTICMIG2021', 'DOMESTICMIG2022',\n",
       "       'DOMESTICMIG2023', 'DOMESTICMIG2024', 'NETMIG2020', 'NETMIG2021',\n",
       "       'NETMIG2022', 'NETMIG2023', 'NETMIG2024', 'RESIDUAL2020',\n",
       "       'RESIDUAL2021', 'RESIDUAL2022', 'RESIDUAL2023', 'RESIDUAL2024',\n",
       "       'RBIRTH2021', 'RBIRTH2022', 'RBIRTH2023', 'RBIRTH2024', 'RDEATH2021',\n",
       "       'RDEATH2022', 'RDEATH2023', 'RDEATH2024', 'RNATURALCHG2021',\n",
       "       'RNATURALCHG2022', 'RNATURALCHG2023', 'RNATURALCHG2024',\n",
       "       'RINTERNATIONALMIG2021', 'RINTERNATIONALMIG2022',\n",
       "       'RINTERNATIONALMIG2023', 'RINTERNATIONALMIG2024', 'RDOMESTICMIG2021',\n",
       "       'RDOMESTICMIG2022', 'RDOMESTICMIG2023', 'RDOMESTICMIG2024',\n",
       "       'RNETMIG2021', 'RNETMIG2022', 'RNETMIG2023', 'RNETMIG2024'],\n",
       "      dtype='object')"
      ]
     },
     "execution_count": 19,
     "metadata": {},
     "output_type": "execute_result"
    }
   ],
   "source": [
    "poblacion.columns"
   ]
  },
  {
   "cell_type": "code",
   "execution_count": 9,
   "metadata": {},
   "outputs": [
    {
     "name": "stdout",
     "output_type": "stream",
     "text": [
      "<class 'pandas.core.frame.DataFrame'>\n",
      "RangeIndex: 66 entries, 0 to 65\n",
      "Data columns (total 75 columns):\n",
      " #   Column                 Non-Null Count  Dtype  \n",
      "---  ------                 --------------  -----  \n",
      " 0   SUMLEV                 66 non-null     int64  \n",
      " 1   REGION                 66 non-null     object \n",
      " 2   DIVISION               66 non-null     object \n",
      " 3   STATE                  66 non-null     int64  \n",
      " 4   NAME                   66 non-null     object \n",
      " 5   ESTIMATESBASE2020      66 non-null     int64  \n",
      " 6   POPESTIMATE2020        66 non-null     int64  \n",
      " 7   POPESTIMATE2021        66 non-null     int64  \n",
      " 8   POPESTIMATE2022        66 non-null     int64  \n",
      " 9   POPESTIMATE2023        66 non-null     int64  \n",
      " 10  POPESTIMATE2024        66 non-null     int64  \n",
      " 11  NPOPCHG_2020           66 non-null     int64  \n",
      " 12  NPOPCHG_2021           66 non-null     int64  \n",
      " 13  NPOPCHG_2022           66 non-null     int64  \n",
      " 14  NPOPCHG_2023           66 non-null     int64  \n",
      " 15  NPOPCHG_2024           66 non-null     int64  \n",
      " 16  BIRTHS2020             66 non-null     int64  \n",
      " 17  BIRTHS2021             66 non-null     int64  \n",
      " 18  BIRTHS2022             66 non-null     int64  \n",
      " 19  BIRTHS2023             66 non-null     int64  \n",
      " 20  BIRTHS2024             66 non-null     int64  \n",
      " 21  DEATHS2020             66 non-null     int64  \n",
      " 22  DEATHS2021             66 non-null     int64  \n",
      " 23  DEATHS2022             66 non-null     int64  \n",
      " 24  DEATHS2023             66 non-null     int64  \n",
      " 25  DEATHS2024             66 non-null     int64  \n",
      " 26  NATURALCHG2020         66 non-null     int64  \n",
      " 27  NATURALCHG2021         66 non-null     int64  \n",
      " 28  NATURALCHG2022         66 non-null     int64  \n",
      " 29  NATURALCHG2023         66 non-null     int64  \n",
      " 30  NATURALCHG2024         66 non-null     int64  \n",
      " 31  INTERNATIONALMIG2020   66 non-null     int64  \n",
      " 32  INTERNATIONALMIG2021   66 non-null     int64  \n",
      " 33  INTERNATIONALMIG2022   66 non-null     int64  \n",
      " 34  INTERNATIONALMIG2023   66 non-null     int64  \n",
      " 35  INTERNATIONALMIG2024   66 non-null     int64  \n",
      " 36  DOMESTICMIG2020        66 non-null     int64  \n",
      " 37  DOMESTICMIG2021        66 non-null     int64  \n",
      " 38  DOMESTICMIG2022        66 non-null     int64  \n",
      " 39  DOMESTICMIG2023        66 non-null     int64  \n",
      " 40  DOMESTICMIG2024        66 non-null     int64  \n",
      " 41  NETMIG2020             66 non-null     int64  \n",
      " 42  NETMIG2021             66 non-null     int64  \n",
      " 43  NETMIG2022             66 non-null     int64  \n",
      " 44  NETMIG2023             66 non-null     int64  \n",
      " 45  NETMIG2024             66 non-null     int64  \n",
      " 46  RESIDUAL2020           66 non-null     int64  \n",
      " 47  RESIDUAL2021           66 non-null     int64  \n",
      " 48  RESIDUAL2022           66 non-null     int64  \n",
      " 49  RESIDUAL2023           66 non-null     int64  \n",
      " 50  RESIDUAL2024           66 non-null     int64  \n",
      " 51  RBIRTH2021             66 non-null     float64\n",
      " 52  RBIRTH2022             66 non-null     float64\n",
      " 53  RBIRTH2023             66 non-null     float64\n",
      " 54  RBIRTH2024             66 non-null     float64\n",
      " 55  RDEATH2021             66 non-null     float64\n",
      " 56  RDEATH2022             66 non-null     float64\n",
      " 57  RDEATH2023             66 non-null     float64\n",
      " 58  RDEATH2024             66 non-null     float64\n",
      " 59  RNATURALCHG2021        66 non-null     float64\n",
      " 60  RNATURALCHG2022        66 non-null     float64\n",
      " 61  RNATURALCHG2023        66 non-null     float64\n",
      " 62  RNATURALCHG2024        66 non-null     float64\n",
      " 63  RINTERNATIONALMIG2021  66 non-null     float64\n",
      " 64  RINTERNATIONALMIG2022  66 non-null     float64\n",
      " 65  RINTERNATIONALMIG2023  66 non-null     float64\n",
      " 66  RINTERNATIONALMIG2024  66 non-null     float64\n",
      " 67  RDOMESTICMIG2021       66 non-null     float64\n",
      " 68  RDOMESTICMIG2022       66 non-null     float64\n",
      " 69  RDOMESTICMIG2023       66 non-null     float64\n",
      " 70  RDOMESTICMIG2024       66 non-null     float64\n",
      " 71  RNETMIG2021            66 non-null     float64\n",
      " 72  RNETMIG2022            66 non-null     float64\n",
      " 73  RNETMIG2023            66 non-null     float64\n",
      " 74  RNETMIG2024            66 non-null     float64\n",
      "dtypes: float64(24), int64(48), object(3)\n",
      "memory usage: 38.8+ KB\n"
     ]
    }
   ],
   "source": [
    "poblacion.info()"
   ]
  },
  {
   "cell_type": "code",
   "execution_count": 10,
   "metadata": {},
   "outputs": [
    {
     "data": {
      "text/plain": [
       "SUMLEV              0\n",
       "REGION              0\n",
       "DIVISION            0\n",
       "STATE               0\n",
       "NAME                0\n",
       "                   ..\n",
       "RDOMESTICMIG2024    0\n",
       "RNETMIG2021         0\n",
       "RNETMIG2022         0\n",
       "RNETMIG2023         0\n",
       "RNETMIG2024         0\n",
       "Length: 75, dtype: int64"
      ]
     },
     "execution_count": 10,
     "metadata": {},
     "output_type": "execute_result"
    }
   ],
   "source": [
    "poblacion.isnull().sum()"
   ]
  },
  {
   "cell_type": "code",
   "execution_count": 16,
   "metadata": {},
   "outputs": [
    {
     "data": {
      "text/plain": [
       "array([ 0,  1,  2,  4,  5,  6,  8,  9, 10, 11, 12, 13, 15, 16, 17, 18, 19,\n",
       "       20, 21, 22, 23, 24, 25, 26, 27, 28, 29, 30, 31, 32, 33, 34, 35, 36,\n",
       "       37, 38, 39, 40, 41, 42, 44, 45, 46, 47, 48, 49, 50, 51, 53, 54, 55,\n",
       "       56, 72], dtype=int64)"
      ]
     },
     "execution_count": 16,
     "metadata": {},
     "output_type": "execute_result"
    }
   ],
   "source": [
    "poblacion.STATE.unique()"
   ]
  },
  {
   "cell_type": "code",
   "execution_count": 17,
   "metadata": {},
   "outputs": [
    {
     "data": {
      "text/html": [
       "<div>\n",
       "<style scoped>\n",
       "    .dataframe tbody tr th:only-of-type {\n",
       "        vertical-align: middle;\n",
       "    }\n",
       "\n",
       "    .dataframe tbody tr th {\n",
       "        vertical-align: top;\n",
       "    }\n",
       "\n",
       "    .dataframe thead th {\n",
       "        text-align: right;\n",
       "    }\n",
       "</style>\n",
       "<table border=\"1\" class=\"dataframe\">\n",
       "  <thead>\n",
       "    <tr style=\"text-align: right;\">\n",
       "      <th></th>\n",
       "      <th>SUMLEV</th>\n",
       "      <th>REGION</th>\n",
       "      <th>DIVISION</th>\n",
       "      <th>STATE</th>\n",
       "      <th>NAME</th>\n",
       "      <th>ESTIMATESBASE2020</th>\n",
       "      <th>POPESTIMATE2020</th>\n",
       "      <th>POPESTIMATE2021</th>\n",
       "      <th>POPESTIMATE2022</th>\n",
       "      <th>POPESTIMATE2023</th>\n",
       "      <th>...</th>\n",
       "      <th>RINTERNATIONALMIG2023</th>\n",
       "      <th>RINTERNATIONALMIG2024</th>\n",
       "      <th>RDOMESTICMIG2021</th>\n",
       "      <th>RDOMESTICMIG2022</th>\n",
       "      <th>RDOMESTICMIG2023</th>\n",
       "      <th>RDOMESTICMIG2024</th>\n",
       "      <th>RNETMIG2021</th>\n",
       "      <th>RNETMIG2022</th>\n",
       "      <th>RNETMIG2023</th>\n",
       "      <th>RNETMIG2024</th>\n",
       "    </tr>\n",
       "  </thead>\n",
       "  <tbody>\n",
       "  </tbody>\n",
       "</table>\n",
       "<p>0 rows × 75 columns</p>\n",
       "</div>"
      ],
      "text/plain": [
       "Empty DataFrame\n",
       "Columns: [SUMLEV, REGION, DIVISION, STATE, NAME, ESTIMATESBASE2020, POPESTIMATE2020, POPESTIMATE2021, POPESTIMATE2022, POPESTIMATE2023, POPESTIMATE2024, NPOPCHG_2020, NPOPCHG_2021, NPOPCHG_2022, NPOPCHG_2023, NPOPCHG_2024, BIRTHS2020, BIRTHS2021, BIRTHS2022, BIRTHS2023, BIRTHS2024, DEATHS2020, DEATHS2021, DEATHS2022, DEATHS2023, DEATHS2024, NATURALCHG2020, NATURALCHG2021, NATURALCHG2022, NATURALCHG2023, NATURALCHG2024, INTERNATIONALMIG2020, INTERNATIONALMIG2021, INTERNATIONALMIG2022, INTERNATIONALMIG2023, INTERNATIONALMIG2024, DOMESTICMIG2020, DOMESTICMIG2021, DOMESTICMIG2022, DOMESTICMIG2023, DOMESTICMIG2024, NETMIG2020, NETMIG2021, NETMIG2022, NETMIG2023, NETMIG2024, RESIDUAL2020, RESIDUAL2021, RESIDUAL2022, RESIDUAL2023, RESIDUAL2024, RBIRTH2021, RBIRTH2022, RBIRTH2023, RBIRTH2024, RDEATH2021, RDEATH2022, RDEATH2023, RDEATH2024, RNATURALCHG2021, RNATURALCHG2022, RNATURALCHG2023, RNATURALCHG2024, RINTERNATIONALMIG2021, RINTERNATIONALMIG2022, RINTERNATIONALMIG2023, RINTERNATIONALMIG2024, RDOMESTICMIG2021, RDOMESTICMIG2022, RDOMESTICMIG2023, RDOMESTICMIG2024, RNETMIG2021, RNETMIG2022, RNETMIG2023, RNETMIG2024]\n",
       "Index: []\n",
       "\n",
       "[0 rows x 75 columns]"
      ]
     },
     "execution_count": 17,
     "metadata": {},
     "output_type": "execute_result"
    }
   ],
   "source": [
    "poblacion[poblacion.duplicated()==True]"
   ]
  },
  {
   "cell_type": "code",
   "execution_count": 18,
   "metadata": {},
   "outputs": [
    {
     "data": {
      "text/plain": [
       "Index(['SUMLEV', 'REGION', 'DIVISION', 'STATE', 'NAME', 'ESTIMATESBASE2020',\n",
       "       'POPESTIMATE2020', 'POPESTIMATE2021', 'POPESTIMATE2022',\n",
       "       'POPESTIMATE2023', 'POPESTIMATE2024', 'NPOPCHG_2020', 'NPOPCHG_2021',\n",
       "       'NPOPCHG_2022', 'NPOPCHG_2023', 'NPOPCHG_2024', 'BIRTHS2020',\n",
       "       'BIRTHS2021', 'BIRTHS2022', 'BIRTHS2023', 'BIRTHS2024', 'DEATHS2020',\n",
       "       'DEATHS2021', 'DEATHS2022', 'DEATHS2023', 'DEATHS2024',\n",
       "       'NATURALCHG2020', 'NATURALCHG2021', 'NATURALCHG2022', 'NATURALCHG2023',\n",
       "       'NATURALCHG2024', 'INTERNATIONALMIG2020', 'INTERNATIONALMIG2021',\n",
       "       'INTERNATIONALMIG2022', 'INTERNATIONALMIG2023', 'INTERNATIONALMIG2024',\n",
       "       'DOMESTICMIG2020', 'DOMESTICMIG2021', 'DOMESTICMIG2022',\n",
       "       'DOMESTICMIG2023', 'DOMESTICMIG2024', 'NETMIG2020', 'NETMIG2021',\n",
       "       'NETMIG2022', 'NETMIG2023', 'NETMIG2024', 'RESIDUAL2020',\n",
       "       'RESIDUAL2021', 'RESIDUAL2022', 'RESIDUAL2023', 'RESIDUAL2024',\n",
       "       'RBIRTH2021', 'RBIRTH2022', 'RBIRTH2023', 'RBIRTH2024', 'RDEATH2021',\n",
       "       'RDEATH2022', 'RDEATH2023', 'RDEATH2024', 'RNATURALCHG2021',\n",
       "       'RNATURALCHG2022', 'RNATURALCHG2023', 'RNATURALCHG2024',\n",
       "       'RINTERNATIONALMIG2021', 'RINTERNATIONALMIG2022',\n",
       "       'RINTERNATIONALMIG2023', 'RINTERNATIONALMIG2024', 'RDOMESTICMIG2021',\n",
       "       'RDOMESTICMIG2022', 'RDOMESTICMIG2023', 'RDOMESTICMIG2024',\n",
       "       'RNETMIG2021', 'RNETMIG2022', 'RNETMIG2023', 'RNETMIG2024'],\n",
       "      dtype='object')"
      ]
     },
     "execution_count": 18,
     "metadata": {},
     "output_type": "execute_result"
    }
   ],
   "source": [
    "poblacion.columns"
   ]
  },
  {
   "cell_type": "code",
   "execution_count": 20,
   "metadata": {},
   "outputs": [
    {
     "data": {
      "text/plain": [
       "array([10, 20, 30, 40], dtype=int64)"
      ]
     },
     "execution_count": 20,
     "metadata": {},
     "output_type": "execute_result"
    }
   ],
   "source": [
    "poblacion.SUMLEV.unique()"
   ]
  },
  {
   "cell_type": "code",
   "execution_count": 21,
   "metadata": {},
   "outputs": [
    {
     "data": {
      "text/plain": [
       "array(['0', '1', '2', '3', '4', 'X'], dtype=object)"
      ]
     },
     "execution_count": 21,
     "metadata": {},
     "output_type": "execute_result"
    }
   ],
   "source": [
    "poblacion.REGION.unique()"
   ]
  },
  {
   "cell_type": "code",
   "execution_count": 22,
   "metadata": {},
   "outputs": [
    {
     "data": {
      "text/plain": [
       "array(['0', '1', '2', '3', '4', '5', '6', '7', '8', '9', 'X'],\n",
       "      dtype=object)"
      ]
     },
     "execution_count": 22,
     "metadata": {},
     "output_type": "execute_result"
    }
   ],
   "source": [
    "poblacion.DIVISION.unique()"
   ]
  },
  {
   "cell_type": "code",
   "execution_count": 23,
   "metadata": {},
   "outputs": [
    {
     "data": {
      "text/plain": [
       "array([ 0,  1,  2,  4,  5,  6,  8,  9, 10, 11, 12, 13, 15, 16, 17, 18, 19,\n",
       "       20, 21, 22, 23, 24, 25, 26, 27, 28, 29, 30, 31, 32, 33, 34, 35, 36,\n",
       "       37, 38, 39, 40, 41, 42, 44, 45, 46, 47, 48, 49, 50, 51, 53, 54, 55,\n",
       "       56, 72], dtype=int64)"
      ]
     },
     "execution_count": 23,
     "metadata": {},
     "output_type": "execute_result"
    }
   ],
   "source": [
    "poblacion.STATE.unique()"
   ]
  },
  {
   "cell_type": "code",
   "execution_count": 24,
   "metadata": {},
   "outputs": [
    {
     "data": {
      "text/plain": [
       "array(['United States', 'Northeast Region', 'New England',\n",
       "       'Middle Atlantic', 'Midwest Region', 'East North Central',\n",
       "       'West North Central', 'South Region', 'South Atlantic',\n",
       "       'East South Central', 'West South Central', 'West Region',\n",
       "       'Mountain', 'Pacific', 'Alabama', 'Alaska', 'Arizona', 'Arkansas',\n",
       "       'California', 'Colorado', 'Connecticut', 'Delaware',\n",
       "       'District of Columbia', 'Florida', 'Georgia', 'Hawaii', 'Idaho',\n",
       "       'Illinois', 'Indiana', 'Iowa', 'Kansas', 'Kentucky', 'Louisiana',\n",
       "       'Maine', 'Maryland', 'Massachusetts', 'Michigan', 'Minnesota',\n",
       "       'Mississippi', 'Missouri', 'Montana', 'Nebraska', 'Nevada',\n",
       "       'New Hampshire', 'New Jersey', 'New Mexico', 'New York',\n",
       "       'North Carolina', 'North Dakota', 'Ohio', 'Oklahoma', 'Oregon',\n",
       "       'Pennsylvania', 'Rhode Island', 'South Carolina', 'South Dakota',\n",
       "       'Tennessee', 'Texas', 'Utah', 'Vermont', 'Virginia', 'Washington',\n",
       "       'West Virginia', 'Wisconsin', 'Wyoming', 'Puerto Rico'],\n",
       "      dtype=object)"
      ]
     },
     "execution_count": 24,
     "metadata": {},
     "output_type": "execute_result"
    }
   ],
   "source": [
    "poblacion.NAME.unique()"
   ]
  },
  {
   "cell_type": "code",
   "execution_count": 5,
   "metadata": {},
   "outputs": [
    {
     "data": {
      "image/png": "[encoded data removed]",
      "text/plain": [
       "<Figure size 1000x1000 with 1 Axes>"
      ]
     },
     "metadata": {},
     "output_type": "display_data"
    }
   ],
   "source": [
    "import seaborn as sns\n",
    "import matplotlib.pyplot as plt\n",
    "\n",
    "plt.figure(figsize=(10,10))\n",
    "sns.barplot(data=poblacion.query(\"STATE!=0\").sort_values(by='POPESTIMATE2024', ascending=False), y = 'NAME', x='POPESTIMATE2024')\n",
    "plt.ticklabel_format(style='plain', axis='X')\n",
    "plt.title('POBLACION POR ESTADOS\\n')\n",
    "plt.xlabel('CANTIDAD')\n",
    "plt.ylabel('ESTADOS')\n",
    "plt.show()"
   ]
  }
 ],
 "metadata": {
  "kernelspec": {
   "display_name": "Python 3",
   "language": "python",
   "name": "python3"
  },
  "language_info": {
   "codemirror_mode": {
    "name": "ipython",
    "version": 3
   },
   "file_extension": ".py",
   "mimetype": "text/x-python",
   "name": "python",
   "nbconvert_exporter": "python",
   "pygments_lexer": "ipython3",
   "version": "3.10.11"
  }
 },
 "nbformat": 4,
 "nbformat_minor": 2
}
